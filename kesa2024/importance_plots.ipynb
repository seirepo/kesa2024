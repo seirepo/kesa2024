{
 "cells": [
  {
   "cell_type": "code",
   "execution_count": null,
   "id": "bd63831d-458b-4e10-9299-ad0166c6cd5f",
   "metadata": {},
   "outputs": [],
   "source": []
  }
 ],
 "metadata": {
  "kernelspec": {
   "display_name": "",
   "name": ""
  },
  "language_info": {
   "name": ""
  }
 },
 "nbformat": 4,
 "nbformat_minor": 5
}
